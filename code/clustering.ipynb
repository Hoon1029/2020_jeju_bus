{
 "cells": [
  {
   "cell_type": "markdown",
   "metadata": {},
   "source": [
    "### loading stations information"
   ]
  },
  {
   "cell_type": "code",
   "execution_count": 7,
   "metadata": {},
   "outputs": [],
   "source": [
    "import numpy as np\n",
    "import pandas as pd\n",
    "import os\n",
    "\n",
    "pile_path = \"D:\\workspace\\jeju_bus\\data/station_final.csv\"\n",
    "df = pd.read_csv(pile_path, encoding='CP949')\n",
    "sdf = df[[\"STATION_ID\", \"LOCAL_X\", \"LOCAL_Y\"]]"
   ]
  },
  {
   "cell_type": "markdown",
   "metadata": {},
   "source": [
    "### calculating distance between each station"
   ]
  },
  {
   "cell_type": "code",
   "execution_count": 11,
   "metadata": {},
   "outputs": [],
   "source": [
    "from haversine import haversine\n",
    "from tqdm.notebook import tqdm\n",
    "\n",
    "def calDistBetweenEachStation(station_df, id):\n",
    "    dist_df = pd.DataFrame(index = station_df[id].values, columns = station_df[id].values) #create df to store distance between each station\n",
    "    id = station_df[\"STATION_ID\"]\n",
    "    x = station_df[\"LOCAL_X\"]\n",
    "    y = station_df[\"LOCAL_Y\"]\n",
    "    \n",
    "    for a in tqdm(station_df.index):\n",
    "        start = (x[a], y[a])\n",
    "        for b in tqdm(station_df.index):\n",
    "            end = (x[b], y[b])\n",
    "            dist_df.loc[id[a], id[b]] = int(haversine(start, end, unit=\"m\"))\n",
    "    return dist_df\n",
    "\n",
    "dist_df = pd.read_csv(\"D:\\workspace\\jeju_bus\\data/distance_between_each_station.csv\")\n",
    "# dist_df = calDistBetweenEachStation(sdf, \"STATION_ID\")"
   ]
  },
  {
   "cell_type": "markdown",
   "metadata": {},
   "source": [
    "### stroing distance date into excel"
   ]
  },
  {
   "cell_type": "code",
   "execution_count": 12,
   "metadata": {},
   "outputs": [],
   "source": [
    "dist_df.to_csv(\"D:\\workspace\\jeju_bus\\data/distance_between_each_station.csv\")"
   ]
  },
  {
   "cell_type": "markdown",
   "metadata": {},
   "source": [
    "### algorithm - getTargetStations : we can only considerate near stations"
   ]
  },
  {
   "cell_type": "markdown",
   "metadata": {},
   "source": [
    "ySortingStationList = station.sort(Y좌표 오름차순)[id]\n",
    "xSortingStationList = station.sort(X좌표 오름차순)[id]\n",
    "\n",
    "targetStations getTargetStations(stationId, distance)\n",
    "    station = stationList[stationId]\n",
    "    List targetStations = new List();\n",
    "    \n",
    "    int first_idx = bynarySerch(ySortingStationList, station.y-distance)\n",
    "    int last_idx = bynarySerch(ySortingStationList, station.y+distance)\n",
    "    \n",
    "    set.push(y좌표가 distance이하인 stationId) # 정렬된 리스트에 이진탐색하여 범위를 빠르게 찾는다. => 2*n*log(n)\n",
    "    set.push(x좌표가 distance이하인 stationId) # 이미 포함되면 제외 => 2*n*log(n)\n",
    "    return set"
   ]
  },
  {
   "cell_type": "markdown",
   "metadata": {},
   "source": [
    "### sorting stations data base in location"
   ]
  },
  {
   "cell_type": "code",
   "execution_count": 8,
   "metadata": {},
   "outputs": [],
   "source": [
    "y_sorting_stations = sdf.sort_values(by=\"LOCAL_Y\")\n",
    "x_sorting_stations = sdf.sort_values(by=\"LOCAL_X\")\n",
    "y_locals = y_sorting_stations[\"LOCAL_Y\"]\n",
    "x_locals = x_sorting_stations[\"LOCAL_X\"]"
   ]
  },
  {
   "cell_type": "markdown",
   "metadata": {},
   "source": [
    "### get target stations"
   ]
  },
  {
   "cell_type": "code",
   "execution_count": 33,
   "metadata": {},
   "outputs": [
    {
     "name": "stderr",
     "output_type": "stream",
     "text": [
      "<ipython-input-33-5cb3d2030215>:1: DeprecationWarning: The default dtype for empty Series will be 'object' instead of 'float64' in a future version. Specify a dtype explicitly to silence this warning.\n",
      "  a = pd.Series([], [])\n"
     ]
    },
    {
     "data": {
      "text/plain": [
       "Series([], dtype: float64)"
      ]
     },
     "execution_count": 33,
     "metadata": {},
     "output_type": "execute_result"
    }
   ],
   "source": [
    "import bisect\n",
    "def getTargetStations(stations, stationId, distance):\n",
    "    targetStationSet = {}\n",
    "    from_y = max(0, bisect.bisect(y_locals, stations.loc[stationId, \"LOCAL_Y\"]-distance)-1)\n",
    "    to_y = min(len(y_sorting_stations), bisect.bisect(y_locals, stations.loc[stationId, \"LOCAL_Y\"]+distance)+1)\n",
    "    \n",
    "    print(\"me_y        : \"+str(stations.loc[stationId, \"LOCAL_Y\"]))\n",
    "    print(\"local_y_from: \"+str(stations.loc[stationId, \"LOCAL_Y\"]-distance))\n",
    "    print(\"local_y_end : \"+str(stations.loc[stationId, \"LOCAL_Y\"]+distance))\n",
    "    print(\"\")\n",
    "    \n",
    "    print(y_sorting_stations)\n",
    "    print(from_y)\n",
    "    print(to_y)\n",
    "    \n",
    "getTargetStations(sdf, 2000, 500/1000/110)"
   ]
  },
  {
   "cell_type": "code",
   "execution_count": null,
   "metadata": {},
   "outputs": [],
   "source": []
  }
 ],
 "metadata": {
  "kernelspec": {
   "display_name": "Python 3",
   "language": "python",
   "name": "python3"
  },
  "language_info": {
   "codemirror_mode": {
    "name": "ipython",
    "version": 3
   },
   "file_extension": ".py",
   "mimetype": "text/x-python",
   "name": "python",
   "nbconvert_exporter": "python",
   "pygments_lexer": "ipython3",
   "version": "3.8.3"
  }
 },
 "nbformat": 4,
 "nbformat_minor": 4
}
