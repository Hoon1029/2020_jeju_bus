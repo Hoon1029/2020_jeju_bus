{
 "cells": [
  {
   "cell_type": "markdown",
   "metadata": {},
   "source": [
    "### loading stations information"
   ]
  },
  {
   "cell_type": "code",
   "execution_count": 2,
   "metadata": {},
   "outputs": [],
   "source": [
    "import numpy as np\n",
    "import pandas as pd\n",
    "import os\n",
    "\n",
    "pile_path = \"D:\\workspace\\jeju_bus\\data/station_final.csv\"\n",
    "df = pd.read_csv(pile_path, encoding='CP949')\n",
    "sdf = df[[\"STATION_ID\", \"LOCAL_X\", \"LOCAL_Y\"]]"
   ]
  },
  {
   "cell_type": "markdown",
   "metadata": {},
   "source": [
    "### calculating distance between each station"
   ]
  },
  {
   "cell_type": "code",
   "execution_count": 3,
   "metadata": {},
   "outputs": [],
   "source": [
    "from haversine import haversine\n",
    "from tqdm.notebook import tqdm\n",
    "\n",
    "def calDistBetweenEachStation(station_df, id):\n",
    "    dist_df = pd.DataFrame(index = station_df[id].values, columns = station_df[id].values) #create df to store distance between each station\n",
    "    id = station_df[\"STATION_ID\"]\n",
    "    x = station_df[\"LOCAL_X\"]\n",
    "    y = station_df[\"LOCAL_Y\"]\n",
    "    \n",
    "    for a in tqdm(station_df.index):\n",
    "        start = (x[a], y[a])\n",
    "        for b in tqdm(station_df.index):\n",
    "            end = (x[b], y[b])\n",
    "            dist_df.loc[id[a], id[b]] = int(haversine(start, end, unit=\"m\"))\n",
    "    return dist_df\n",
    "\n",
    "dist_df = pd.read_csv(\"D:\\workspace\\jeju_bus\\data/distance_between_each_station.csv\")\n",
    "# dist_df = calDistBetweenEachStation(sdf, \"STATION_ID\")"
   ]
  },
  {
   "cell_type": "markdown",
   "metadata": {},
   "source": [
    "### stroing distance date into excel"
   ]
  },
  {
   "cell_type": "code",
   "execution_count": 4,
   "metadata": {},
   "outputs": [],
   "source": [
    "dist_df.to_csv(\"D:\\workspace\\jeju_bus\\data/distance_between_each_station.csv\")"
   ]
  },
  {
   "cell_type": "markdown",
   "metadata": {},
   "source": [
    "### algorithm - getTargetStations : we can only considerate near stations"
   ]
  },
  {
   "cell_type": "markdown",
   "metadata": {},
   "source": [
    "ySortingStationList = station.sort(Y좌표 오름차순)[id]\n",
    "xSortingStationList = station.sort(X좌표 오름차순)[id]\n",
    "\n",
    "targetStations getTargetStations(stationId, distance)\n",
    "    station = stationList[stationId]\n",
    "    List targetStations = new List();\n",
    "    \n",
    "    int first_idx = bynarySerch(ySortingStationList, station.y-distance)\n",
    "    int last_idx = bynarySerch(ySortingStationList, station.y+distance)\n",
    "    \n",
    "    set.push(y좌표가 distance이하인 stationId) # 정렬된 리스트에 이진탐색하여 범위를 빠르게 찾는다. => 2*n*log(n)\n",
    "    set.push(x좌표가 distance이하인 stationId) # 이미 포함되면 제외 => 2*n*log(n)\n",
    "    return set"
   ]
  },
  {
   "cell_type": "markdown",
   "metadata": {},
   "source": [
    "### sorting stations data base in location"
   ]
  },
  {
   "cell_type": "code",
   "execution_count": 5,
   "metadata": {},
   "outputs": [],
   "source": [
    "y_sorting_stations = sdf.sort_values(by=\"LOCAL_Y\")\n",
    "x_sorting_stations = sdf.sort_values(by=\"LOCAL_X\")\n",
    "y_locals = y_sorting_stations[\"LOCAL_Y\"]\n",
    "x_locals = x_sorting_stations[\"LOCAL_X\"]"
   ]
  },
  {
   "cell_type": "markdown",
   "metadata": {},
   "source": [
    "### get target stations"
   ]
  },
  {
   "cell_type": "code",
   "execution_count": 6,
   "metadata": {},
   "outputs": [
    {
     "name": "stdout",
     "output_type": "stream",
     "text": [
      "me_y        : 33.252833\n",
      "local_y_from: 33.248287545454545\n",
      "local_y_end : 33.25737845454546\n",
      "\n",
      "      STATION_ID     LOCAL_X    LOCAL_Y\n",
      "1845   406001404  126.290117  33.208351\n",
      "1227   406000634  126.290250  33.208467\n",
      "3545   406001554  126.257336  33.210974\n",
      "3544   406001553  126.257486  33.211189\n",
      "2807   406001402  126.292365  33.212011\n",
      "...          ...         ...        ...\n",
      "1499   405001755  126.736139  33.555557\n",
      "670    405001343  126.754533  33.555633\n",
      "191    405000970  126.754533  33.555767\n",
      "669    405001341  126.760293  33.555819\n",
      "1258   405001342  126.759317  33.556167\n",
      "\n",
      "[3810 rows x 3 columns]\n",
      "0\n",
      "1937\n"
     ]
    }
   ],
   "source": [
    "import bisect\n",
    "def getTargetStations(stations, stationId, distance):\n",
    "    targetStationSet = {}\n",
    "    from_y = max(0, bisect.bisect(y_locals, stations.loc[stationId, \"LOCAL_Y\"]-distance)-1)\n",
    "    to_y = min(len(y_sorting_stations), bisect.bisect(y_locals, stations.loc[stationId, \"LOCAL_Y\"]+distance)+1)\n",
    "    \n",
    "    print(\"me_y        : \"+str(stations.loc[stationId, \"LOCAL_Y\"]))\n",
    "    print(\"local_y_from: \"+str(stations.loc[stationId, \"LOCAL_Y\"]-distance))\n",
    "    print(\"local_y_end : \"+str(stations.loc[stationId, \"LOCAL_Y\"]+distance))\n",
    "    print(\"\")\n",
    "    \n",
    "    print(y_sorting_stations)\n",
    "    print(from_y)\n",
    "    print(to_y)\n",
    "    \n",
    "getTargetStations(sdf, 2000, 500/1000/110)"
   ]
  },
  {
   "cell_type": "code",
   "execution_count": null,
   "metadata": {},
   "outputs": [],
   "source": []
  }
 ],
 "metadata": {
  "kernelspec": {
   "display_name": "Python 3",
   "language": "python",
   "name": "python3"
  },
  "language_info": {
   "codemirror_mode": {
    "name": "ipython",
    "version": 3
   },
   "file_extension": ".py",
   "mimetype": "text/x-python",
   "name": "python",
   "nbconvert_exporter": "python",
   "pygments_lexer": "ipython3",
   "version": "3.8.3"
  }
 },
 "nbformat": 4,
 "nbformat_minor": 4
}
