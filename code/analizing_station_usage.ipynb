{
 "cells": [
  {
   "cell_type": "code",
   "execution_count": 25,
   "metadata": {},
   "outputs": [
    {
     "name": "stdout",
     "output_type": "stream",
     "text": [
      "<class 'pandas.core.frame.DataFrame'>\n",
      "<class 'pandas.core.frame.DataFrame'>\n"
     ]
    }
   ],
   "source": [
    "import numpy as np\n",
    "import pandas as pd\n",
    "import os\n",
    "\n",
    "tag_path = \"D:\\workspace\\jeju_bus\\data/tb_bus_user_usage_190601.csv\"\n",
    "tag_df = pd.read_csv(tag_path, encoding='UTF-8')\n",
    "sub_tag_df = tag_df[[\"geton_station_id\", \"getoff_station_id\"]]\n",
    "print(type(tag_df))\n",
    "print(type(sub_tag_df))\n",
    "\n",
    "station_path = \"D:\\workspace\\jeju_bus\\data/station_final.csv\"\n",
    "station_df = pd.read_csv(station_path, encoding='CP949')\n",
    "sub_station_df = station_df[[\"STATION_ID\", \"LOCAL_X\", \"LOCAL_Y\"]]"
   ]
  },
  {
   "cell_type": "code",
   "execution_count": 23,
   "metadata": {},
   "outputs": [
    {
     "name": "stderr",
     "output_type": "stream",
     "text": [
      "IOPub data rate exceeded.\n",
      "The notebook server will temporarily stop sending output\n",
      "to the client in order to avoid crashing it.\n",
      "To change this limit, set the config variable\n",
      "`--NotebookApp.iopub_data_rate_limit`.\n",
      "\n",
      "Current values:\n",
      "NotebookApp.iopub_data_rate_limit=1000000.0 (bytes/sec)\n",
      "NotebookApp.rate_limit_window=3.0 (secs)\n",
      "\n"
     ]
    }
   ],
   "source": [
    "start = min(sub_station_df[\"STATION_ID\"])\n",
    "end = max(sub_station_df[\"STATION_ID\"])\n",
    "usage = [0 for i in range(end-start)]\n",
    "print(usage)\n",
    "# for a in tqdm(sub_tag_df.index):\n"
   ]
  }
 ],
 "metadata": {
  "kernelspec": {
   "display_name": "Python 3",
   "language": "python",
   "name": "python3"
  },
  "language_info": {
   "codemirror_mode": {
    "name": "ipython",
    "version": 3
   },
   "file_extension": ".py",
   "mimetype": "text/x-python",
   "name": "python",
   "nbconvert_exporter": "python",
   "pygments_lexer": "ipython3",
   "version": "3.8.3"
  }
 },
 "nbformat": 4,
 "nbformat_minor": 4
}
